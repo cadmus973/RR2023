{
  "nbformat": 4,
  "nbformat_minor": 0,
  "metadata": {
    "colab": {
      "provenance": [],
      "authorship_tag": "ABX9TyNBH2YTpxHfhCY95lETu+Ax",
      "include_colab_link": true
    },
    "kernelspec": {
      "name": "python3",
      "display_name": "Python 3"
    },
    "language_info": {
      "name": "python"
    }
  },
  "cells": [
    {
      "cell_type": "markdown",
      "metadata": {
        "id": "view-in-github",
        "colab_type": "text"
      },
      "source": [
        "<a href=\"https://colab.research.google.com/github/cadmus973/RR2023/blob/main/Computational_ReproducibilityHW.ipynb\" target=\"_parent\"><img src=\"https://colab.research.google.com/assets/colab-badge.svg\" alt=\"Open In Colab\"/></a>"
      ]
    },
    {
      "cell_type": "code",
      "execution_count": 1,
      "metadata": {
        "colab": {
          "base_uri": "https://localhost:8080/"
        },
        "id": "iDkGj5pmbHjt",
        "outputId": "afb159ef-d3b1-4559-bed4-db2c9384b2ac"
      },
      "outputs": [
        {
          "output_type": "stream",
          "name": "stdout",
          "text": [
            "2023-10-30\n"
          ]
        }
      ],
      "source": [
        "import datetime\n",
        "today = datetime.date.today()\n",
        "print(today)"
      ]
    },
    {
      "cell_type": "code",
      "source": [
        "2*5"
      ],
      "metadata": {
        "colab": {
          "base_uri": "https://localhost:8080/"
        },
        "id": "64j4hrBqbIhL",
        "outputId": "369c7a96-66cb-4b3a-c8fb-16e306ca304c"
      },
      "execution_count": 4,
      "outputs": [
        {
          "output_type": "execute_result",
          "data": {
            "text/plain": [
              "10"
            ]
          },
          "metadata": {},
          "execution_count": 4
        }
      ]
    },
    {
      "cell_type": "markdown",
      "source": [
        "Using repositories, tracking changes and publishing data via sources like GitHub can help with computational reproducibility by making your data more accessible and understandable. This is becoming an increasingly important concern given the rapid advancement of technology and its incorporation into the scientific world. With the speed of these developments, it can oftentimes be challenging to keep up with new techniques and analyses. This makes reproducing experiments / findings that use these techniques difficult, creating opportunities for mistakes and misinterpretations. By properly annotating and providing the workflow of an analysis, it makes the entire process much more accessible.\n",
        "\n",
        "For those who are more experienced with these analyses, it allows them to understand your approach and properly temper their expectations regarding reproducibility. For example, if they saw you took a deterministic approach, they would expect to produce the exact same results from the same input. However, if they saw you took a stochastic approach, they would expect some consistent but different results. Moreover, it adds credence to your findings, as they can understand how you came to your conclusions and help clear any ambiguities.  \n",
        "\n",
        "Finally, it also helps foster a collaborative environment and improve reproducibility overall; people can share code and help solve and prevent problems before they become more engrained. Overall, it is a useful practice that should see more widespread implementation in an increasingly data-heavy world."
      ],
      "metadata": {
        "id": "zVX43Lr4bJuh"
      }
    }
  ]
}